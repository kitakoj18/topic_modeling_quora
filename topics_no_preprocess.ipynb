{
 "cells": [
  {
   "cell_type": "markdown",
   "metadata": {
    "collapsed": true
   },
   "source": [
    "# Topic Modeling - No Preprocessing\n",
    "\n",
    "This notebook explores topic modeling on a high level using Non-Negative Matrix Factorization. Here I am trying to identify themes in questions that are written on [Quora](https://www.quora.com/) with minimal text preprocessing to get a better grasp on text vectorization and what interesting topics we can find first without typical preprocessing. Later I will explore more preprocessing techniques to understand how it affects our results. "
   ]
  },
  {
   "cell_type": "code",
   "execution_count": 1,
   "metadata": {},
   "outputs": [],
   "source": [
    "import numpy as np\n",
    "import pandas as pd"
   ]
  },
  {
   "cell_type": "markdown",
   "metadata": {},
   "source": [
    "This dataset was provided on one of the Udemy courses I took and contains over 400K questions from Quora. In this notebook, I am doing more than simply what was given in the course assignments. Rather, I am extending what was taught to play around more with things like the hyperparameters of the text vectorization and the NMF model. "
   ]
  },
  {
   "cell_type": "code",
   "execution_count": 5,
   "metadata": {},
   "outputs": [],
   "source": [
    "df = pd.read_csv('data/quora_questions.csv')"
   ]
  },
  {
   "cell_type": "code",
   "execution_count": 10,
   "metadata": {},
   "outputs": [
    {
     "data": {
      "text/plain": [
       "404289"
      ]
     },
     "execution_count": 10,
     "metadata": {},
     "output_type": "execute_result"
    }
   ],
   "source": [
    "len(df)"
   ]
  },
  {
   "cell_type": "markdown",
   "metadata": {},
   "source": [
    "First five questions in the dataset..."
   ]
  },
  {
   "cell_type": "code",
   "execution_count": 8,
   "metadata": {},
   "outputs": [
    {
     "name": "stdout",
     "output_type": "stream",
     "text": [
      "What is the step by step guide to invest in share market in india?\n",
      "What is the story of Kohinoor (Koh-i-Noor) Diamond?\n",
      "How can I increase the speed of my internet connection while using a VPN?\n",
      "Why am I mentally very lonely? How can I solve it?\n",
      "Which one dissolve in water quikly sugar, salt, methane and carbon di oxide?\n"
     ]
    }
   ],
   "source": [
    "for i in range(5):\n",
    "    print(df['Question'][i])"
   ]
  },
  {
   "cell_type": "markdown",
   "metadata": {},
   "source": [
    "# Text Vectorization\n",
    "\n",
    "Vectorizing the questions in the corpus. First, I am going to set min_df to 0.5% We are trying to discover topics that are common in the corpus so perhaps we don't care about words that don't appear very much across all the documents. Excluding words that don't appear frequently can also save some execution time. \n",
    "\n",
    "On the flip side, depending how you look at it, we might want to keep certain words that aren't mentioned across many of the documents because these words might be more specific to a smaller subset of documents and can be used to identify the topic(s) of these subsets. \n"
   ]
  },
  {
   "cell_type": "code",
   "execution_count": 11,
   "metadata": {},
   "outputs": [],
   "source": [
    "from sklearn.feature_extraction.text import TfidfVectorizer"
   ]
  },
  {
   "cell_type": "code",
   "execution_count": 12,
   "metadata": {},
   "outputs": [],
   "source": [
    "tf_idf = TfidfVectorizer(min_df = 0.005, stop_words = 'english')"
   ]
  },
  {
   "cell_type": "code",
   "execution_count": 13,
   "metadata": {},
   "outputs": [],
   "source": [
    "data = df['Question']\n",
    "vectorized = tf_idf.fit_transform(data)"
   ]
  },
  {
   "cell_type": "code",
   "execution_count": 14,
   "metadata": {},
   "outputs": [
    {
     "data": {
      "text/plain": [
       "<404289x109 sparse matrix of type '<class 'numpy.float64'>'\n",
       "\twith 478090 stored elements in Compressed Sparse Row format>"
      ]
     },
     "execution_count": 14,
     "metadata": {},
     "output_type": "execute_result"
    }
   ],
   "source": [
    "vectorized"
   ]
  },
  {
   "cell_type": "markdown",
   "metadata": {},
   "source": [
    "# Non-negative Matrix Factorization\n",
    "\n",
    "Implementing Non-Negative Matrix Factorization to see what topics it might be able to identify, first starting with 20 components. "
   ]
  },
  {
   "cell_type": "code",
   "execution_count": 15,
   "metadata": {},
   "outputs": [],
   "source": [
    "from sklearn.decomposition import NMF"
   ]
  },
  {
   "cell_type": "code",
   "execution_count": 16,
   "metadata": {},
   "outputs": [],
   "source": [
    "nmf_mod = NMF(n_components=20, random_state=42)"
   ]
  },
  {
   "cell_type": "code",
   "execution_count": 17,
   "metadata": {},
   "outputs": [
    {
     "data": {
      "text/plain": [
       "NMF(alpha=0.0, beta_loss='frobenius', init=None, l1_ratio=0.0, max_iter=200,\n",
       "  n_components=20, random_state=42, shuffle=False, solver='cd', tol=0.0001,\n",
       "  verbose=0)"
      ]
     },
     "execution_count": 17,
     "metadata": {},
     "output_type": "execute_result"
    }
   ],
   "source": [
    "nmf_mod.fit(vectorized)"
   ]
  },
  {
   "cell_type": "markdown",
   "metadata": {},
   "source": [
    "Below, the top 15 words are printed for each of the 20 topics. Each component has a vector the length of the number of words in the corpus and each dimension represents the magnitude or importance of the word to the associated topic.\n",
    "\n",
    "Looking below, it's difficult to come up with a theme for any of the topics below based off the words that the model found most useful. I would like to see these clusters contain words that appear to be more associated with each other. For example, Topic 19 and the documents that fall within the topic could be about the 2016 presidential race between Hilary Clinton and Trump, but there are other words that muddle our ability to determine a theme for this topic. "
   ]
  },
  {
   "cell_type": "code",
   "execution_count": 18,
   "metadata": {},
   "outputs": [
    {
     "name": "stdout",
     "output_type": "stream",
     "text": [
      "THE TOP 15 WORDS FOR TOPIC #0:\n",
      "['app', 'website', 'company', 'free', 'engineering', 'phone', 'movie', '2016', 'online', 'buy', 'ways', 'movies', 'books', 'book', 'best']\n",
      "\n",
      "\n",
      "THE TOP 15 WORDS FOR TOPIC #1:\n",
      "['weight', 'facebook', 'increase', 'girl', 'person', 'need', 'sex', 'help', 'really', 'new', 'long', 'feel', 'compare', 'mean', 'does']\n",
      "\n",
      "\n",
      "THE TOP 15 WORDS FOR TOPIC #2:\n",
      "['happen', 'online', 'start', 'engineering', 'president', '1000', '500', 'business', 'notes', 'country', 'company', 'buy', 'job', 'war', 'india']\n",
      "\n",
      "\n",
      "THE TOP 15 WORDS FOR TOPIC #3:\n",
      "['online', 'year', 'examples', 'learning', 'college', 'business', 'job', 'movies', 'buy', 'book', 'engineering', 'bad', 'ways', 'books', 'good']\n",
      "\n",
      "\n",
      "THE TOP 15 WORDS FOR TOPIC #4:\n",
      "['google', 'just', 'really', 'facebook', 'website', 'world', 'person', 'don', 'women', 'sex', 'girl', 'live', 'different', 'feel', 'like']\n",
      "\n",
      "\n",
      "THE TOP 15 WORDS FOR TOPIC #5:\n",
      "['sex', 'different', 'love', 'just', 'feel', 'important', 'stop', 'want', 'google', 'instagram', 'black', 'questions', 'ask', 'don', 'people']\n",
      "\n",
      "\n",
      "THE TOP 15 WORDS FOR TOPIC #6:\n",
      "['black', 'person', 'used', 'different', 'learning', 'examples', 'real', 'company', 'language', 'business', 'computer', 'programming', 'engineering', 'love', 'difference']\n",
      "\n",
      "\n",
      "THE TOP 15 WORDS FOR TOPIC #7:\n",
      "['long', 'lose', '2016', 'happen', 'change', 'war', 'thing', 'donald', 'movie', 'really', 'win', 'start', 'trump', 'compare', 'did']\n",
      "\n",
      "\n",
      "THE TOP 15 WORDS FOR TOPIC #8:\n",
      "['facebook', 'want', 'account', 'app', 'possible', 'website', 'free', 'year', 'using', 'black', 'ways', 'earn', 'online', 'money', 'make']\n",
      "\n",
      "\n",
      "THE TOP 15 WORDS FOR TOPIC #9:\n",
      "['money', 'trump', 'just', 'earn', 'improve', 'number', 'need', 'using', 'change', 'account', 'google', 'ask', 'question', 'questions', 'quora']\n",
      "\n",
      "\n",
      "THE TOP 15 WORDS FOR TOPIC #10:\n",
      "['improve', 'love', 'possible', 'things', 'person', 'examples', 'movie', 'want', 'change', 'day', 'live', 'important', 'thing', 'real', 'life']\n",
      "\n",
      "\n",
      "THE TOP 15 WORDS FOR TOPIC #11:\n",
      "['job', 'girl', 'using', 'improve', 'start', 'facebook', 'stop', 'account', 'instagram', 'increase', 'prepare', 'money', 'lose', 'weight', 'way']\n",
      "\n",
      "\n",
      "THE TOP 15 WORDS FOR TOPIC #12:\n",
      "['change', 'movie', 'day', 'movies', 'stop', 'real', 'feel', 'person', 'love', 'things', 'job', 'long', 'sex', 'possible', 'time']\n",
      "\n",
      "\n",
      "THE TOP 15 WORDS FOR TOPIC #13:\n",
      "['free', 'instagram', 'don', 'used', 'account', 'android', 'facebook', 'possible', 'number', 'app', 'iphone', 'using', 'google', 'phone', 'use']\n",
      "\n",
      "\n",
      "THE TOP 15 WORDS FOR TOPIC #14:\n",
      "['important', 'person', 'old', 'really', 'start', 'want', 'girl', 'year', 'love', 'going', 'don', 'day', 'things', 'new', 'know']\n",
      "\n",
      "\n",
      "THE TOP 15 WORDS FOR TOPIC #15:\n",
      "['computer', 'long', 'free', 'ways', 'book', 'books', 'learning', 'want', 'online', 'start', 'improve', 'programming', 'language', 'english', 'learn']\n",
      "\n",
      "\n",
      "THE TOP 15 WORDS FOR TOPIC #16:\n",
      "['notes', '1000', '500', 'happen', 'stop', 'hillary', 'clinton', 'win', 'president', 'war', '2016', 'donald', 'trump', 'world', 'think']\n",
      "\n",
      "\n",
      "THE TOP 15 WORDS FOR TOPIC #17:\n",
      "['don', 'just', 'phone', 'years', 'business', 'start', 'used', 'engineering', 'google', 'company', 'want', 'really', 'long', 'job', 'work']\n",
      "\n",
      "\n",
      "THE TOP 15 WORDS FOR TOPIC #18:\n",
      "['books', 'year', 'real', 'old', 'engineering', 'job', 'women', 'help', 'new', 'money', 'black', 'notes', '1000', '500', 'indian']\n",
      "\n",
      "\n",
      "THE TOP 15 WORDS FOR TOPIC #19:\n",
      "['android', 'live', 'president', 'college', 'company', 'buy', 'computer', 'iphone', 'hillary', 'clinton', 'donald', 'engineering', 'job', 'trump', 'better']\n",
      "\n",
      "\n"
     ]
    }
   ],
   "source": [
    "for idx, topic in enumerate(nmf_mod.components_):\n",
    "    print(f'THE TOP 15 WORDS FOR TOPIC #{idx}:')\n",
    "    print([tf_idf.get_feature_names()[i] for i in topic.argsort()[-15:]])\n",
    "    print('\\n')"
   ]
  },
  {
   "cell_type": "markdown",
   "metadata": {},
   "source": [
    "## Testing\n",
    "\n",
    "Below I'm going to play around with the min_df, max_df parameters during TF-IDF and the number of components in the NMF model to see I can extract more identifiable themes. One possible approach to take note of is that if the model originally finds a lot of the same words across topics, consider lowering k.\n",
    "\n",
    "Above I stated the cases for and against taking out words that don't show up frequently in the corpus. We might also want to disregard words that appear in a majority of documents or else they might appear in several of the latent topics found by the model, rendering it difficult to interpret any differences between the topics. "
   ]
  },
  {
   "cell_type": "code",
   "execution_count": 50,
   "metadata": {},
   "outputs": [],
   "source": [
    "from random import randint\n",
    "###HELPER FUNCTIONS###\n",
    "\n",
    "def fit_nmf(tf_idf_vec, n_components=10):\n",
    "    '''Fits NMF model with specified number of components (default=10) and returns NMF fitted components'''\n",
    "    mod = NMF(n_components=n_components, random_state=42)\n",
    "    mod.fit(tf_idf_vec)\n",
    "    \n",
    "    nmf_components = mod.components_\n",
    "    return mod, nmf_components\n",
    "\n",
    "def print_top15(tf_idf, nmf_components):\n",
    "    '''Prints top 15 words for each topic'''\n",
    "    for idx, topic in enumerate(nmf_components):\n",
    "        print(f'THE TOP 15 WORDS FOR TOPIC #{idx}:')\n",
    "        print([tf_idf.get_feature_names()[i] for i in topic.argsort()[-15:]])\n",
    "        print('\\n')\n",
    "\n",
    "def print_topic_sents(df, topic_dict, n=10):\n",
    "    '''Prints set of n random questions for each topic the model found'''\n",
    "    topics = topic_dict.values()\n",
    "    for topic in topics:\n",
    "        topic_questions = df[df['Topic'] == topic]['Question']\n",
    "        max_range = len(topic_questions)\n",
    "        print(f'{n} RANDOM SENTENCES FOR TOPIC: {topic}')\n",
    "        \n",
    "        for i in range(n):\n",
    "            rand_num = randint(0, max_range)\n",
    "            print(topic_questions.iloc[rand_num])\n",
    "            \n",
    "        print('\\n\\n')"
   ]
  },
  {
   "cell_type": "markdown",
   "metadata": {},
   "source": [
    "## min_df=0.01, n_components=10"
   ]
  },
  {
   "cell_type": "code",
   "execution_count": 29,
   "metadata": {},
   "outputs": [],
   "source": [
    "tf_idf2 = TfidfVectorizer(min_df = 0.01, stop_words = 'english')"
   ]
  },
  {
   "cell_type": "code",
   "execution_count": 30,
   "metadata": {},
   "outputs": [],
   "source": [
    "vectorized2 = tf_idf2.fit_transform(data)"
   ]
  },
  {
   "cell_type": "code",
   "execution_count": 31,
   "metadata": {},
   "outputs": [
    {
     "data": {
      "text/plain": [
       "<404289x30 sparse matrix of type '<class 'numpy.float64'>'\n",
       "\twith 258260 stored elements in Compressed Sparse Row format>"
      ]
     },
     "execution_count": 31,
     "metadata": {},
     "output_type": "execute_result"
    }
   ],
   "source": [
    "vectorized2"
   ]
  },
  {
   "cell_type": "code",
   "execution_count": 33,
   "metadata": {},
   "outputs": [],
   "source": [
    "nmf2, nmf2_components = fit_nmf(vectorized2, 10)"
   ]
  },
  {
   "cell_type": "markdown",
   "metadata": {},
   "source": [
    "The topics generated this round aren't very clear; they appear to share similar words such as indian, trump, world... Because the same words in appear in a lot of the topics, it's difficult to classify a theme. Let's investigate this more..."
   ]
  },
  {
   "cell_type": "code",
   "execution_count": 34,
   "metadata": {},
   "outputs": [
    {
     "name": "stdout",
     "output_type": "stream",
     "text": [
      "THE TOP 15 WORDS FOR TOPIC #0:\n",
      "['work', 'want', 'know', 'year', 'use', 'new', 'indian', 'start', 'world', 'english', 'time', 'online', 'learn', 'way', 'best']\n",
      "\n",
      "\n",
      "THE TOP 15 WORDS FOR TOPIC #1:\n",
      "['world', 'want', 'year', 'make', 'indian', 'know', 'think', 'money', 'trump', 'use', 'time', 'new', 'work', 'mean', 'does']\n",
      "\n",
      "\n",
      "THE TOP 15 WORDS FOR TOPIC #2:\n",
      "['use', 'time', 'year', 'work', 'want', 'better', 'world', 'new', 'online', 'start', 'indian', 'trump', 'money', 'think', 'india']\n",
      "\n",
      "\n",
      "THE TOP 15 WORDS FOR TOPIC #3:\n",
      "['think', 'new', 'use', 'trump', 'want', 'online', 'year', 'indian', 'start', 'english', 'way', 'work', 'learn', 'time', 'good']\n",
      "\n",
      "\n",
      "THE TOP 15 WORDS FOR TOPIC #4:\n",
      "['better', 'trump', 'think', 'learn', 'new', 'want', 'english', 'use', 'year', 'know', 'time', 'indian', 'world', 'work', 'like']\n",
      "\n",
      "\n",
      "THE TOP 15 WORDS FOR TOPIC #5:\n",
      "['english', 'money', 'year', 'learn', 'better', 'indian', 'time', 'want', 'trump', 'new', 'use', 'world', 'think', 'know', 'people']\n",
      "\n",
      "\n",
      "THE TOP 15 WORDS FOR TOPIC #6:\n",
      "['want', 'english', 'mean', 'year', 'think', 'use', 'new', 'indian', 'know', 'learn', 'world', 'start', 'time', 'trump', 'did']\n",
      "\n",
      "\n",
      "THE TOP 15 WORDS FOR TOPIC #7:\n",
      "['start', 'want', 'work', 'mean', 'year', 'world', 'new', 'make', 'english', 'know', 'use', 'time', 'better', 'indian', 'difference']\n",
      "\n",
      "\n",
      "THE TOP 15 WORDS FOR TOPIC #8:\n",
      "['year', 'good', 'india', 'start', 'english', 'want', 'online', 'make', 'better', 'trump', 'way', 'money', 'time', 'use', 'quora']\n",
      "\n",
      "\n",
      "THE TOP 15 WORDS FOR TOPIC #9:\n",
      "['start', 'think', 'year', 'new', 'better', 'know', 'want', 'work', 'learn', 'time', 'online', 'way', 'money', 'make', 'life']\n",
      "\n",
      "\n"
     ]
    }
   ],
   "source": [
    "print_top15(tf_idf2, nmf2_components)"
   ]
  },
  {
   "cell_type": "markdown",
   "metadata": {},
   "source": [
    "## max_df=0.0005, n_components=20"
   ]
  },
  {
   "cell_type": "markdown",
   "metadata": {},
   "source": [
    "One thing I noticed above is that although setting min_df to 0.01 seems like a low threshold (any words that appear in less than 1% of the total corpus are thrown out), the dimension of the spare matrix when fitting for TF-IDF is 404289x30. The second dimension indicates that only 30 words remain after setting min_df to 0.01, meaning that because this corpus is so large and questions on Quora vary by a lot, the questions are unique in the words that make them up, which might make it hard to capture any themes. But let's still see where we can get.\n",
    "\n",
    "Setting max_df at 0.0005 (discard words that appear in more than 0.05% of the corpus), the number of words remaining that are vectorized is 65,778, which again means that there are a lot of unique words across these Quora questions; there isn't a single word that shows up in more than 0.05% of the documents."
   ]
  },
  {
   "cell_type": "code",
   "execution_count": 36,
   "metadata": {},
   "outputs": [
    {
     "data": {
      "text/plain": [
       "<404289x65778 sparse matrix of type '<class 'numpy.float64'>'\n",
       "\twith 673714 stored elements in Compressed Sparse Row format>"
      ]
     },
     "execution_count": 36,
     "metadata": {},
     "output_type": "execute_result"
    }
   ],
   "source": [
    "tf_idf3 = TfidfVectorizer(max_df = 0.0005, stop_words = 'english')\n",
    "vectorized3 = tf_idf3.fit_transform(data)\n",
    "vectorized3"
   ]
  },
  {
   "cell_type": "markdown",
   "metadata": {},
   "source": [
    "Knowing how sparse the questions are on Quora, it would make sense to increase the number of components in the NMF model so that it can hopefully identify more themes across these varying questions. Below, I set n_components to 20."
   ]
  },
  {
   "cell_type": "code",
   "execution_count": 40,
   "metadata": {},
   "outputs": [],
   "source": [
    "nmf3, nmf3_components = fit_nmf(vectorized3, 20)"
   ]
  },
  {
   "cell_type": "markdown",
   "metadata": {},
   "source": [
    "By simply identifying that these questions vary a lot in terms of the words that are used has pointed me in a direction in what values might be good to use for vectorizing the text and fitting the model. Not really related, but I believe iteration is the rule not the exception when it comes to NLP and the results you get earlier in the process will help fine tune any sort of preprocessing or decisions made for future iterations. \n",
    "\n",
    "Below isn't perfect, but even with minimal text preprocessing and some adjustments to the hyperparameters, I think we can identify a couple of topics prevalent in Quora. Some of the topics below contain words that appear to cluster well with each other. \n",
    "\n",
    "For example, Topic 1 appears to be about people asking about suicide and instant and painless death. Questions that fall under Topic 11 might be about how to make good habits to be productive or inspirational quotes. "
   ]
  },
  {
   "cell_type": "code",
   "execution_count": 41,
   "metadata": {},
   "outputs": [
    {
     "name": "stdout",
     "output_type": "stream",
     "text": [
      "THE TOP 15 WORDS FOR TOPIC #0:\n",
      "['processor', 'cellphone', '17k', 'costing', 'earns', 'commute', '20k', 'coolest', 'august', 'lakh', 'shoot', '10k', 'bicycle', 'smartphones', '15k']\n",
      "\n",
      "\n",
      "THE TOP 15 WORDS FOR TOPIC #1:\n",
      "['pubic', 'killing', 'hanging', 'efficient', 'oneself', 'fairly', 'peaceful', 'dying', 'instantly', 'painful', 'neurological', 'disabling', 'untreatable', 'quickest', 'painless']\n",
      "\n",
      "\n",
      "THE TOP 15 WORDS FOR TOPIC #2:\n",
      "['ejaculate', 'reduces', 'ill', 'virginity', 'procrastination', 'stamina', 'sperm', 'sin', 'harm', 'teenager', 'habit', 'pimples', 'caught', 'forever', 'masturbating']\n",
      "\n",
      "\n",
      "THE TOP 15 WORDS FOR TOPIC #3:\n",
      "['finish', 'achieved', 'drugs', 'officers', 'forever', 'excited', 'distracted', 'vegetarian', 'tier', 'struggling', 'motivates', 'keeps', 'minute', 'goals', 'motivated']\n",
      "\n",
      "\n",
      "THE TOP 15 WORDS FOR TOPIC #4:\n",
      "['direction', 'destroyed', 'kinetic', 'appears', 'slower', 'transforms', 'scientists', 'potentially', 'expand', 'forever', 'conserved', 'potentiality', 'expansion', 'expanding', 'expands']\n",
      "\n",
      "\n",
      "THE TOP 15 WORDS FOR TOPIC #5:\n",
      "['habits', 'band', 'posting', 'listening', 'hell', 'nature', 'boredom', 'mechanism', 'highly', 'relax', 'grammar', 'yawn', 'productive', 'badly', 'bored']\n",
      "\n",
      "\n",
      "THE TOP 15 WORDS FOR TOPIC #6:\n",
      "['syllabus', 'basics', 'grammar', 'brazil', 'poetry', 'castilian', 'abusive', 'oral', 'efficient', 'widely', 'institutes', 'latin', 'spain', 'improving', 'spoken']\n",
      "\n",
      "\n",
      "THE TOP 15 WORDS FOR TOPIC #7:\n",
      "['ai', 'whey', 'meditation', 'techniques', 'cpt', 'firm', 'profitable', 'scoring', 'daydreaming', 'concentration', 'sleepy', 'distracted', 'particular', 'breakup', 'concentrate']\n",
      "\n",
      "\n",
      "THE TOP 15 WORDS FOR TOPIC #8:\n",
      "['annoying', 'franchise', 'funny', 'stalking', 'breaking', 'erotic', 'documentary', 'creepiest', 'paranormal', 'scary', 'owner', 'matrix', 'comedy', 'scariest', 'watched']\n",
      "\n",
      "\n",
      "THE TOP 15 WORDS FOR TOPIC #9:\n",
      "['worrying', 'answering', 'literally', 'spits', 'breakup', 'simply', 'becoms', 'stuck', 'properly', 'forward', 'googled', 'quorans', 'definitively', 'silly', 'googling']\n",
      "\n",
      "\n",
      "THE TOP 15 WORDS FOR TOPIC #10:\n",
      "['forgotten', 'deleting', 'library', 'jailbreak', 'activation', 'retrieve', 'storage', 'bypass', 'saved', 'broken', 'contacts', 'backup', 'lock', 'unlock', 'icloud']\n",
      "\n",
      "\n",
      "THE TOP 15 WORDS FOR TOPIC #11:\n",
      "['habits', 'quotes', '6am', 'aiims', 'dress', 'habit', 'existing', 'productive', 'goals', 'regularly', 'dislike', 'inspirational', 'lazy', 'quote', 'motivate']\n",
      "\n",
      "\n",
      "THE TOP 15 WORDS FOR TOPIC #12:\n",
      "['quotes', 'cameras', 'notion', 'castes', 'shape', 'arvind', 'productivity', 'kejriwal', 'celebrities', 'nowadays', 'tired', 'psychopaths', 'quorans', 'surely', 'obsessed']\n",
      "\n",
      "\n",
      "THE TOP 15 WORDS FOR TOPIC #13:\n",
      "['maturity', 'flirting', 'cracking', 'strangest', 'weird', 'tricks', 'dirty', 'involving', 'hilarious', 'universal', 'oldest', 'laugh', 'memes', 'funny', 'jokes']\n",
      "\n",
      "\n",
      "THE TOP 15 WORDS FOR TOPIC #14:\n",
      "['translate', 'motivating', 'graphic', 'anonymous', 'figure', 'construction', 'southern', 'ups', 'possibility', 'concentrated', 'comfortable', 'designing', 'push', 'comfort', 'zone']\n",
      "\n",
      "\n",
      "THE TOP 15 WORDS FOR TOPIC #15:\n",
      "['developers', 'celebrity', 'entrepreneurship', 'venture', 'ceo', 'educational', 'habit', 'psychopath', 'aspiring', 'path', 'millionaire', 'silicon', 'qualities', 'teenager', 'entrepreneur']\n",
      "\n",
      "\n",
      "THE TOP 15 WORDS FOR TOPIC #16:\n",
      "['hardships', 'launched', 'emotional', 'dying', 'consumption', 'jack', 'huge', 'releasing', 'hasn', 'customers', 'plans', 'launch', 'launching', 'ek', 'daniel']\n",
      "\n",
      "\n",
      "THE TOP 15 WORDS FOR TOPIC #17:\n",
      "['teachers', 'cross', 'violin', 'sixties', 'synthesizer', 'jazz', 'hong', 'kong', '26', 'tutorials', 'classical', 'teaching', 'keyboard', 'dying', 'piano']\n",
      "\n",
      "\n",
      "THE TOP 15 WORDS FOR TOPIC #18:\n",
      "['listening', 'lessons', 'memorize', 'competition', 'fluency', 'communicate', 'enrich', 'strategies', 'improving', 'grammar', 'hong', 'kong', 'dying', 'expand', 'vocabulary']\n",
      "\n",
      "\n",
      "THE TOP 15 WORDS FOR TOPIC #19:\n",
      "['partners', 'intercourse', 'oral', 'unhealthy', 'pleasurable', 'squirt', 'condom', 'anonymous', 'receiving', 'ejaculate', 'painful', 'enjoyable', 'vaginal', 'orgasm', 'anal']\n",
      "\n",
      "\n"
     ]
    }
   ],
   "source": [
    "print_top15(tf_idf3, nmf3_components)"
   ]
  },
  {
   "cell_type": "markdown",
   "metadata": {},
   "source": [
    "Assign each question to a topic number. I then try to do my best to label each topic listed in the topic_dict. There are some that are hard to put a category to so for those clusters, I label them as unclassified. Once I created these topics, I'm going to map the topic numbers to their respective topics."
   ]
  },
  {
   "cell_type": "code",
   "execution_count": 42,
   "metadata": {},
   "outputs": [
    {
     "data": {
      "text/html": [
       "<div>\n",
       "<style scoped>\n",
       "    .dataframe tbody tr th:only-of-type {\n",
       "        vertical-align: middle;\n",
       "    }\n",
       "\n",
       "    .dataframe tbody tr th {\n",
       "        vertical-align: top;\n",
       "    }\n",
       "\n",
       "    .dataframe thead th {\n",
       "        text-align: right;\n",
       "    }\n",
       "</style>\n",
       "<table border=\"1\" class=\"dataframe\">\n",
       "  <thead>\n",
       "    <tr style=\"text-align: right;\">\n",
       "      <th></th>\n",
       "      <th>Question</th>\n",
       "      <th>Topic_Num</th>\n",
       "    </tr>\n",
       "  </thead>\n",
       "  <tbody>\n",
       "    <tr>\n",
       "      <th>0</th>\n",
       "      <td>What is the step by step guide to invest in sh...</td>\n",
       "      <td>15</td>\n",
       "    </tr>\n",
       "    <tr>\n",
       "      <th>1</th>\n",
       "      <td>What is the story of Kohinoor (Koh-i-Noor) Dia...</td>\n",
       "      <td>15</td>\n",
       "    </tr>\n",
       "    <tr>\n",
       "      <th>2</th>\n",
       "      <td>How can I increase the speed of my internet co...</td>\n",
       "      <td>2</td>\n",
       "    </tr>\n",
       "    <tr>\n",
       "      <th>3</th>\n",
       "      <td>Why am I mentally very lonely? How can I solve...</td>\n",
       "      <td>7</td>\n",
       "    </tr>\n",
       "    <tr>\n",
       "      <th>4</th>\n",
       "      <td>Which one dissolve in water quikly sugar, salt...</td>\n",
       "      <td>10</td>\n",
       "    </tr>\n",
       "  </tbody>\n",
       "</table>\n",
       "</div>"
      ],
      "text/plain": [
       "                                            Question  Topic_Num\n",
       "0  What is the step by step guide to invest in sh...         15\n",
       "1  What is the story of Kohinoor (Koh-i-Noor) Dia...         15\n",
       "2  How can I increase the speed of my internet co...          2\n",
       "3  Why am I mentally very lonely? How can I solve...          7\n",
       "4  Which one dissolve in water quikly sugar, salt...         10"
      ]
     },
     "execution_count": 42,
     "metadata": {},
     "output_type": "execute_result"
    }
   ],
   "source": [
    "topic_results = nmf3.transform(vectorized3)\n",
    "df['Topic_Num'] = topic_results.argmax(axis=1)\n",
    "df.head()"
   ]
  },
  {
   "cell_type": "code",
   "execution_count": 43,
   "metadata": {},
   "outputs": [],
   "source": [
    "topic_dict = {0: 'technology', 1: 'suicide', 2: 'puberty', 3: 'unclassified', 4: 'science', 5: 'boredom',\n",
    "              6: 'communication', 7: 'productivity', 8: 'documentary_genres', 9: 'unclassified2', 10: 'login_help', \n",
    "              11: 'good_habits', 12: 'unclassified3', 13: 'jokes', 14: 'unclassified4', 15: 'entrepreneurship',\n",
    "             16: 'unclassified5', 17: 'music', 18: 'language', 19: 'sex'}"
   ]
  },
  {
   "cell_type": "code",
   "execution_count": 44,
   "metadata": {},
   "outputs": [
    {
     "data": {
      "text/html": [
       "<div>\n",
       "<style scoped>\n",
       "    .dataframe tbody tr th:only-of-type {\n",
       "        vertical-align: middle;\n",
       "    }\n",
       "\n",
       "    .dataframe tbody tr th {\n",
       "        vertical-align: top;\n",
       "    }\n",
       "\n",
       "    .dataframe thead th {\n",
       "        text-align: right;\n",
       "    }\n",
       "</style>\n",
       "<table border=\"1\" class=\"dataframe\">\n",
       "  <thead>\n",
       "    <tr style=\"text-align: right;\">\n",
       "      <th></th>\n",
       "      <th>Question</th>\n",
       "      <th>Topic_Num</th>\n",
       "      <th>Topic</th>\n",
       "    </tr>\n",
       "  </thead>\n",
       "  <tbody>\n",
       "    <tr>\n",
       "      <th>0</th>\n",
       "      <td>What is the step by step guide to invest in sh...</td>\n",
       "      <td>15</td>\n",
       "      <td>entrepreneurship</td>\n",
       "    </tr>\n",
       "    <tr>\n",
       "      <th>1</th>\n",
       "      <td>What is the story of Kohinoor (Koh-i-Noor) Dia...</td>\n",
       "      <td>15</td>\n",
       "      <td>entrepreneurship</td>\n",
       "    </tr>\n",
       "    <tr>\n",
       "      <th>2</th>\n",
       "      <td>How can I increase the speed of my internet co...</td>\n",
       "      <td>2</td>\n",
       "      <td>puberty</td>\n",
       "    </tr>\n",
       "    <tr>\n",
       "      <th>3</th>\n",
       "      <td>Why am I mentally very lonely? How can I solve...</td>\n",
       "      <td>7</td>\n",
       "      <td>productivity</td>\n",
       "    </tr>\n",
       "    <tr>\n",
       "      <th>4</th>\n",
       "      <td>Which one dissolve in water quikly sugar, salt...</td>\n",
       "      <td>10</td>\n",
       "      <td>login_help</td>\n",
       "    </tr>\n",
       "  </tbody>\n",
       "</table>\n",
       "</div>"
      ],
      "text/plain": [
       "                                            Question  Topic_Num  \\\n",
       "0  What is the step by step guide to invest in sh...         15   \n",
       "1  What is the story of Kohinoor (Koh-i-Noor) Dia...         15   \n",
       "2  How can I increase the speed of my internet co...          2   \n",
       "3  Why am I mentally very lonely? How can I solve...          7   \n",
       "4  Which one dissolve in water quikly sugar, salt...         10   \n",
       "\n",
       "              Topic  \n",
       "0  entrepreneurship  \n",
       "1  entrepreneurship  \n",
       "2           puberty  \n",
       "3      productivity  \n",
       "4        login_help  "
      ]
     },
     "execution_count": 44,
     "metadata": {},
     "output_type": "execute_result"
    }
   ],
   "source": [
    "df['Topic'] = df['Topic_Num'].map(topic_dict)\n",
    "df.head()"
   ]
  },
  {
   "cell_type": "markdown",
   "metadata": {},
   "source": [
    "Number of questions per topic:"
   ]
  },
  {
   "cell_type": "code",
   "execution_count": 46,
   "metadata": {},
   "outputs": [
    {
     "data": {
      "text/plain": [
       "technology            110680\n",
       "entrepreneurship       51990\n",
       "unclassified5          34789\n",
       "login_help             34700\n",
       "unclassified4          29990\n",
       "music                  17056\n",
       "language               15617\n",
       "documentary_genres     13359\n",
       "communication          12111\n",
       "sex                    11917\n",
       "science                10724\n",
       "good_habits            10700\n",
       "jokes                   9662\n",
       "puberty                 9180\n",
       "unclassified3           8939\n",
       "unclassified            8032\n",
       "productivity            5063\n",
       "boredom                 4678\n",
       "suicide                 2737\n",
       "unclassified2           2365\n",
       "Name: Topic, dtype: int64"
      ]
     },
     "execution_count": 46,
     "metadata": {},
     "output_type": "execute_result"
    }
   ],
   "source": [
    "df['Topic'].value_counts()"
   ]
  },
  {
   "cell_type": "markdown",
   "metadata": {},
   "source": [
    "Below are 10 randomly picked questions per topic. Although the model was able to distinguish and choose words that appear associated with each other, it appears most of the questions below still don't fall under the certain categories they were placed into. I believe this is because there are still too many varied questions in the dataset while not enough components and therefore appropriate themes to place the questions under. \n",
    "\n",
    "From here, I plan to explore more with: additional text preprocessing, increasing the number of components, and/or working with a smaller subset of the dataset to see if I can still find underlying themes but something where a majority of the questions fall under an appropriate topic."
   ]
  },
  {
   "cell_type": "code",
   "execution_count": 57,
   "metadata": {},
   "outputs": [
    {
     "name": "stdout",
     "output_type": "stream",
     "text": [
      "10 RANDOM SENTENCES FOR TOPIC: technology\n",
      "What does the world not know about India and why?\n",
      "What should be my resolution for 2017?\n",
      "What is architecture all about?\n",
      "Why can't I be myself?\n",
      "What is the best brand of stethoscope for a medical student?\n",
      "How soon can humans move to and live on Mars?\n",
      "What are some of the best whatsapp status?\n",
      "If you were president, what is the first thing you would do?\n",
      "What is the way to make a girl fall in love with you?\n",
      "How can you describe Taos material?\n",
      "\n",
      "\n",
      "\n",
      "10 RANDOM SENTENCES FOR TOPIC: suicide\n",
      "What is the quickest way to get meth out your system?\n",
      "How do you stop a sunburn from peeling?\n",
      "Where can I find a surf (Speeded Up Robust Features) MATLAB Code for Keypoint detector and keypoint descriptor?\n",
      "What is the best way to stop talking to oneself?\n",
      "What are some things new employees should know going into their first day at PPL?\n",
      "If you could get now instantly and completely guaranteed right and complete answer to ANY of your questions, which one question would you ask?\n",
      "What is the quickest and less painful way to commit suicide?\n",
      "Which American restaurant chains can be found in Norway? What do Norwegian people think of them? D\n",
      "What is the allusion in To Kill a Mockingbird?\n",
      "Why did Darth Vader step on Obi-Wan's robes after killing him?\n",
      "\n",
      "\n",
      "\n",
      "10 RANDOM SENTENCES FOR TOPIC: puberty\n",
      "Is it okay to change PhD advisers and sacrifice the topic for better environment and mentoring?\n",
      "Is the male chromosomes fated to die out in a million years, if so will all that is left will be female?\n",
      "What is the ideal way of loosing weight?\n",
      "How do you remove pimples?\n",
      "How effective is tea tree oil in treating staph infections?\n",
      "Why do we not feel like sleeping but when we're sleeping we don't feel like waking?\n",
      "How long does it take for hair to grow after a hair transplant?\n",
      "Why am I getting headache?\n",
      "What is \"Fear and loathing in Las Vegas\" really about?\n",
      "What are some good non-alcoholic drinks to order at a bar?\n",
      "\n",
      "\n",
      "\n",
      "10 RANDOM SENTENCES FOR TOPIC: unclassified\n",
      "I'm a 3rd year mechanical engineering student. I have published the journal in IJERA with my mini-project (international journal of engineering research and application) and my CGPA is 7.1 up to 5th semester. I want to join an IIT or IISC for my MS. Is this possible?\n",
      "How do you tell your parents you got an “F” in the first semester when they expected you to get  an “A” ?\n",
      "Is it better to be a vegetarian or vegan than to be omnivorous?\n",
      "Is Methylphenidate a methamphetamine?\n",
      "What is the rating of the single phase induction motor?\n",
      "If adoption was going to be abolished anyway (Quran 33:4–5), what was the point of Allah revealing Quran 33:37 in the first place?\n",
      "I work 40h/week and I earn more than what I need. How can I most effectively use my spare time and money to do something about GW and climate change?\n",
      "Did Baba Farid lived in a jungle and crows ate his flesh?\n",
      "Is Congress or the president/elect stupid enough to eliminate the $100 bill after seeing what a similar catastrophe is causing in India?\n",
      "What is the solution for Quora marking your every question as needing improvement?\n",
      "\n",
      "\n",
      "\n",
      "10 RANDOM SENTENCES FOR TOPIC: science\n",
      "What would happen if the Earth rotation suddenly stop?\n",
      "Why wouldn't internet providers block forum sites if we didn't have net neutrality?\n",
      "How long can you keep frozen raw chicken in a refrigerator until it goes bad?\n",
      "What is the total no. Of national highway in india?\n",
      "What are some subscriber related signaling functions?\n",
      "Is every field a vector space over itself?\n",
      "If the arc reactor can be removed, why doesn't Stark remove it in Iron Man 2 to circumvent the palladium poisoning?\n",
      "What would have happened to the water vapours evaporated if there was no hygroscopic particles in the Earth's atmosphere?\n",
      "How can Kaprekar's constant (6174) be proved using MS Excel?\n",
      "What is the difference between the use of Tris-base and Tris-HCL in the preparation of gels for SDS-PAGE other than the volume of NaOH or HCL needed for the pH adjust?\n",
      "\n",
      "\n",
      "\n",
      "10 RANDOM SENTENCES FOR TOPIC: boredom\n",
      "How can I relax at work?\n",
      "I'm texting my girlfriend and she says she's going to come over and \"man handle me\" tonight. What does that mean? What should I expect?\n",
      "What should I do when my girlfriend isn't ready to stop texting her ex-boyfriend even after me giving her a chance?\n",
      "How do I know if I'm texting a girl too much?\n",
      "Who will be the Chinese president after Xi Jinping?\n",
      "What is market mechanism?\n",
      "Are representative democracies turning into audience democracies?\n",
      "My friend is highly tense for her future career as no seniors are helping/ guiding her. How can meditation help in this situation?\n",
      "What is the least harmful cigarette?\n",
      "Writing: How do you write and send a letter to Ellen DeGeneres?\n",
      "\n",
      "\n",
      "\n",
      "10 RANDOM SENTENCES FOR TOPIC: communication\n",
      "What are the requirements needed to become a naval air force pilot in the United States Navy and how does this compare to Brazil's Navy?\n",
      "How do I echo asterisks into the Python Shell when entering a password instead of the characters?\n",
      "Which is the best institute for a DoubleClick Digital Marketing course in Bangalore?\n",
      "I want to settle in a job related to CATIA V5. How good are the prospects in this field?\n",
      "Why is Saltwater Taffy candy imported in Spain?\n",
      "How I start prepare for UGC net English literature latest syllabus?\n",
      "What is the English translation of epifanio?\n",
      "Why did God created only two main genders, male and female?\n",
      "Is there any official British Council training institute in India which provides training programmes for Cambridge English examinations like CAE and CPE English proficiency exams?\n",
      "Do many Mexican women like East Asian men (Korean, Japanese, Chinese)?\n",
      "\n",
      "\n",
      "\n",
      "10 RANDOM SENTENCES FOR TOPIC: productivity\n",
      "Is Quaid dreaming at the end of Total Recall (2012), or has all that has happened been reality?\n",
      "What are some new marketing techniques for language schools?\n",
      "Why do I feel emotionally drained?\n",
      "I would like to pose a question to a particular person on Quora. However cannot find A2A option.Do I need to pay something so as to have it activated?\n",
      "What are the Universities to pursue masters in VLSI in Germany?\n",
      "How dangerous is to eat bread with yellow mold?\n",
      "How can I crack iit JEE and how I can concentrate on study for 15 hours in a day?\n",
      "Who is the luckiest person in the world?\n",
      "Why do some noises make me sleepy?\n",
      "What's the difference between a quilt and blanket, duvet and comforter?\n",
      "\n",
      "\n",
      "\n",
      "10 RANDOM SENTENCES FOR TOPIC: documentary_genres\n",
      "How do I open a Burger King franchise in India?\n",
      "What are some of the possible long term scenarios for complex virtual reality?\n",
      "Which SSC-CGL job gives you more chance for getting posted in Kerala?\n",
      "What is the difference between story and script of a film?\n",
      "What is the manga Gedo(u) No Uta about?\n",
      "What would you like to see in the next Elder Scrolls game?\n",
      "How do I increase a vehicle's mileage?\n",
      "Which thriller, lawsuit or detective TV series would you recommend that I see?\n",
      "Why is manaphy whining?\n",
      "What are the orthogonal trajectories?\n",
      "\n",
      "\n",
      "\n",
      "10 RANDOM SENTENCES FOR TOPIC: unclassified2\n",
      "What is the earliest written language?\n",
      "Which is correct - \"Looking forward to work with\",\"Looking forward to working with\" or \"Look forward to working with\"?\n",
      "Why do people bother to ask questions on Quora they could just google to get the answer?\n",
      "What is the difference between a Center Forward (CF) and Striker (ST) , Is it based only on the formation?\n",
      "What are some tips for buying a Gibson Les Paul guitar?\n",
      "My mother doesn’t treat me properly. I am depressed and don’t know what to do. Is this normal for a parent? Please see details.\n",
      "What is vegetative propagation? Why is it important?\n",
      "What pushes people to suicide?\n",
      "What's the most valuable credit or certification I can get by simply passing an exam?\n",
      "How can I get more views and upvotes on Quora?\n",
      "\n",
      "\n",
      "\n",
      "10 RANDOM SENTENCES FOR TOPIC: login_help\n",
      "Can I upgrade the ram of MacBook Pro (early 2015) purchased in India?\n",
      "How do I retrieve deleted photos from WhatsApp?\n",
      "Which is the best spy software for a Windows phone?\n",
      "How can I get meth out of my system ASAP?\n",
      "Do ambassadors pay taxes?\n",
      "How can I self-publish a book in Kuwait?\n",
      "Why doesn't copy - paste working in nedit?\n",
      "Is buying an extended BMW maintenance warranty a good idea?\n",
      "If India was a part of UNSC would it have been able to ban Masood Azhar without China's support?\n",
      "What are Natural Language Processing Models ?\n",
      "\n",
      "\n",
      "\n",
      "10 RANDOM SENTENCES FOR TOPIC: good_habits\n",
      "What Should India do on Uri Attack?\n",
      "In the movie The Grey (2012), what does the following quote by John mean: \"Once more into the fray. Into the last good fight I'll ever know. Live and die on this day. Live and die on this day...\"?\n",
      "How can I enter the Merchant Navy? How difficult is the entrance exam?\n",
      "What are the best one liners you have ever come across?\n",
      "What workout clothes did guys wear in the summer back in the year 1990?\n",
      "What are some mind-blowing futuristic gadgets that exist that most people don't know about?\n",
      "How can I enter into bollywood?\n",
      "What is the meaning of the poems -a hymn to love?\n",
      "Does an absolute exist?\n",
      "What prizes can one win in competitive coding contests?\n",
      "\n",
      "\n",
      "\n",
      "10 RANDOM SENTENCES FOR TOPIC: unclassified3\n",
      "Do narcissists fully understand how they control, hurt and manipulate those who love them?\n",
      "What is the difference between Psychology, Psychiatry & Psychoanalysis?\n",
      "What will be India if Arvind Kejriwal become the PM of India?\n",
      "Why do some people who are married think that they are superior to people that are single?\n",
      "What is the value of pi?\n",
      "What is The Lord of the Rings about?\n",
      "How can I stop feeling inferior when I'm around a woman that's more attractive?\n",
      "What percentile can I expect in XAT 2017 with a score of 40?\n",
      "What do Georgians think about Azerbaijan?\n",
      "What is your review of Bhadrakh, Odisha, India?\n",
      "\n",
      "\n",
      "\n",
      "10 RANDOM SENTENCES FOR TOPIC: jokes\n",
      "How can I get MOOC/E-learning through online web and video courses related to filmmaking & production developed by Indian professors?\n",
      "What jobs can 13-year-olds do in Miami?\n",
      "What are some things new employees should know going into their first day at Universal Insurance?\n",
      "Which is the most memorable moment of your college?\n",
      "Why is water called a universal solvent?\n",
      "What lies outside of our universe?\n",
      "How does someone reconcile being \"fiscally conservative\" and \"socially liberal\"?\n",
      "How can I find out if a girl is flirting with me because she is attracted to me or just friendly?\n",
      "According to a guy how a girl can stay safe in face-book? I am specially looking to crack some cheesy tricks used by boys and how to defend those?\n",
      "How does 1 Billion Rising stop violence against women?\n",
      "\n",
      "\n",
      "\n",
      "10 RANDOM SENTENCES FOR TOPIC: unclassified4\n",
      "How can we know that we are now in our comfort zone?\n",
      "If an answer has been collapsed, and then improved and uncollapsed, can it be collapsed again? Is there double jeopardy for Quora answers?\n",
      "Is there a possibility of World War III happening in the next 10 years?\n",
      "How many jobs would increased border security and a border wall being built make?\n",
      "How does blood look on sand?\n",
      "Who are some lesser known important historical figures of Australia and what should people know about them?\n",
      "Do identical twins feel comfortable being naked around each other?\n",
      "What do the lyrics of The Wolves by Bon Iver mean?\n",
      "How do I stop caring about what people think about me?\n",
      "To what extent can advertising a product concept to see likes/clicks targeting on Facebook result accidentally cause to incorrectly analyze the data for what it means you should do?\n",
      "\n",
      "\n",
      "\n",
      "10 RANDOM SENTENCES FOR TOPIC: entrepreneurship\n",
      "Can we make India a cashless country?\n",
      "Can a qualified person migrate to Canada at 45 years or above? If not, what abilities / experience will one need to meet the criteria?\n",
      "What is the technical hierarchy (titles) in Broadcom?\n",
      "Should a girl, who doesn't belong to any religion, get married to a Muslim guy?\n",
      "What is the most prestigious medical specialty?\n",
      "What is a quantum mechanical description?\n",
      "Is it good to use Laravel to develop a web app with AngularJS and Bootstrap?\n",
      "What are the untold stories of adoption?\n",
      "How do I convince parents about love marriage? Jain boy and Sikh girl.\n",
      "What are the average salaries and wages of politicians?\n",
      "\n",
      "\n",
      "\n",
      "10 RANDOM SENTENCES FOR TOPIC: unclassified5\n",
      "Do empathetic people feel what others feel or know what others feel?\n",
      "Why and how do clouds have charge?\n",
      "Is the 2016 MacBook Pro with Touch Bar a worthy buy?\n",
      "Do I need to register my self to selling products on online platforms in India?\n",
      "Is digging up methane from earth harmful?\n",
      "Impacts of poor study skills to studence performance?\n",
      "Do people really contact spirits through the use of a ouija board?\n",
      "How do I earn money through Snapdeal?\n",
      "I have a barren land and it has become a liability. I am willing to rent it to a mobile communication tower company. How can I start my procedure?\n",
      "What are the advantages and disadvantages of TTL logic gates?\n",
      "\n",
      "\n",
      "\n",
      "10 RANDOM SENTENCES FOR TOPIC: music\n",
      "How many keywords are there in the Ruby programming language in the latest version?\n",
      "Can 6.6kv give a distance electric shock?\n",
      "How many grams of glucose (C[math]_6[/math]H[math]_12[/math]O[math]_6[/math]) are needed to make 250mL of an 0.360 solution?\n",
      "Which are the shortest and longest Bollywood and Hollywood movies?\n",
      "What is it like having a cat as a pet?\n",
      "What chess piece do you feel is the most important in the game?\n",
      "How many calories does Zumba burn in one hour?\n",
      "What is multicultural? Why it is not working positively now?\n",
      "How do I understand quantum mechanics?\n",
      "How do I grasp more information in less time?\n",
      "\n",
      "\n",
      "\n",
      "10 RANDOM SENTENCES FOR TOPIC: language\n",
      "Where and how did Barack Obama live before he was president?\n",
      "What is noetics science?\n",
      "How come Facebook is able to show me ads for something I was searching on Google?\n",
      "What are the U.K. Visa requirements for U.S. green card holders?\n",
      "Is my understanding of race, nationality and ethnicity correct?\n",
      "What kinds of bugs are these?\n",
      "What are the safety precautions on handling shotguns proposed by the NRA in New Hampshire?\n",
      "What's so Controversial about the Book \"Who is Valmiki\" written by Pro. K.S.Narayaacharya of Mysore?\n",
      "What are the principles of federalism?\n",
      "How can you rapidly lose weight in 14days?\n",
      "\n",
      "\n",
      "\n",
      "10 RANDOM SENTENCES FOR TOPIC: sex\n",
      "Why does my throat hurt after smoking?\n",
      "How to prevent sleep paralysis? Why does this occur?\n",
      "Has anyone used any advertisement and distribution company to promote their business?\n",
      "How do I give my girlfriend space / stop the feeling of having my soul sucked out for the seconds I'm not with her?\n",
      "What women's breasts indicates?\n",
      "What is the most effective way to engage C-Level executives in social media?\n",
      "My boyfriend wants me to stop wearing shorts. My parents are ok with shorts, I have worn it all my life. I'm 19. What should I do?\n",
      "Which is the best treatment for rheumatoid arthritis?\n",
      "What video editing software was used in making this video?\n",
      "How do I get rid of nightmares?\n",
      "\n",
      "\n",
      "\n"
     ]
    }
   ],
   "source": [
    "print_topic_sents(df, topic_dict, n=10)"
   ]
  },
  {
   "cell_type": "code",
   "execution_count": null,
   "metadata": {},
   "outputs": [],
   "source": []
  }
 ],
 "metadata": {
  "kernelspec": {
   "display_name": "Python 3",
   "language": "python",
   "name": "python3"
  },
  "language_info": {
   "codemirror_mode": {
    "name": "ipython",
    "version": 3
   },
   "file_extension": ".py",
   "mimetype": "text/x-python",
   "name": "python",
   "nbconvert_exporter": "python",
   "pygments_lexer": "ipython3",
   "version": "3.7.6"
  }
 },
 "nbformat": 4,
 "nbformat_minor": 2
}
